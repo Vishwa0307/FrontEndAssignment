{
 "cells": [
  {
   "attachments": {},
   "cell_type": "markdown",
   "metadata": {},
   "source": [
    "# Question 1. Explain what the simple `List` component does."
   ]
  },
  {
   "attachments": {},
   "cell_type": "markdown",
   "metadata": {},
   "source": [
    "# Answer:-"
   ]
  },
  {
   "attachments": {},
   "cell_type": "markdown",
   "metadata": {},
   "source": [
    "List is used to store multiple items of the same and different datatype under a variable. It is basically an array. We can perform various operations on it such as .map() to loop over the list/array to list down all the elements.The wrappedListComponent returns a memoized components list. By memoized it states that it doesn't re-render unnecessarily that is if the component's props don't change it doesn't re-render. The memo is used to make website speed more efficient and perform better. As long as the title and release date properties are the same between renderings, React reuses the memoized content."
   ]
  },
  {
   "attachments": {},
   "cell_type": "markdown",
   "metadata": {},
   "source": [
    "# Question 2. What problems/warnings are there with code?"
   ]
  },
  {
   "attachments": {},
   "cell_type": "markdown",
   "metadata": {},
   "source": [
    "# Answer:-"
   ]
  },
  {
   "attachments": {},
   "cell_type": "markdown",
   "metadata": {},
   "source": [
    "# ERROR 1"
   ]
  },
  {
   "attachments": {},
   "cell_type": "markdown",
   "metadata": {},
   "source": [
    "            onClick={onClickHandler(index)}"
   ]
  },
  {
   "attachments": {},
   "cell_type": "markdown",
   "metadata": {},
   "source": [
    "# ERROR 2"
   ]
  },
  {
   "attachments": {},
   "cell_type": "markdown",
   "metadata": {},
   "source": [
    "            const handleClick = index => { setSelectedIndex(index); };"
   ]
  },
  {
   "attachments": {},
   "cell_type": "markdown",
   "metadata": {},
   "source": [
    "# ERROR 3\n"
   ]
  },
  {
   "attachments": {},
   "cell_type": "markdown",
   "metadata": {},
   "source": [
    "            WrappedListComponent.defaultProps = {\n",
    "                    items: null,\n",
    "                        };   "
   ]
  },
  {
   "attachments": {},
   "cell_type": "markdown",
   "metadata": {},
   "source": [
    "# ERROR 4"
   ]
  },
  {
   "attachments": {},
   "cell_type": "markdown",
   "metadata": {},
   "source": [
    "             WrappedListComponent.propTypes = {\n",
    "                 items: PropTypes.array(PropTypes.shapeOf({\n",
    "                 text: PropTypes.string.isRequired,\n",
    "                    })),\n",
    "                     };     \n"
   ]
  },
  {
   "attachments": {},
   "cell_type": "markdown",
   "metadata": {},
   "source": [
    "# ERROR 5"
   ]
  },
  {
   "attachments": {},
   "cell_type": "markdown",
   "metadata": {},
   "source": [
    "            const [setSelectedIndex, selectedIndex] = useState();"
   ]
  },
  {
   "attachments": {},
   "cell_type": "markdown",
   "metadata": {},
   "source": [
    "# Question 3 . Please fix, optimize, and/or modify the component as much as you think is necessary."
   ]
  },
  {
   "attachments": {},
   "cell_type": "markdown",
   "metadata": {},
   "source": [
    "# Answer:-"
   ]
  },
  {
   "attachments": {},
   "cell_type": "markdown",
   "metadata": {},
   "source": [
    "    import React, { useState, useEffect, memo } from \"react\";\n",
    "    import PropTypes from \"prop-types\";\n",
    "\n",
    "    // Single List Item\n",
    "    const WrappedSingleListItem = ({ index, isSelected, onClickHandler, text }) => {\n",
    "    return (\n",
    "    <li\n",
    "    style={{ backgroundColor: isSelected ? \"green\" : \"red\" }}\n",
    "    onClick={()=>onClickHandler(index)}                         //Error 1\n",
    "    >\n",
    "    {text}\n",
    "    </li>\n",
    "    );\n",
    "    };\n",
    "\n",
    "    WrappedSingleListItem.propTypes = {           \n",
    "    index: PropTypes.number,\n",
    "    isSelected: PropTypes.bool,\n",
    "    onClickHandler: PropTypes.func.isRequired,\n",
    "    text: PropTypes.string.isRequired\n",
    "    };\n",
    "\n",
    "    const SingleListItem = memo(WrappedSingleListItem);\n",
    "\n",
    "    // List Component\n",
    "    const WrappedListComponent = ({ items }) => {                  \n",
    "    const [selectedIndex, setSelectedIndex] = useState(false);     //Error 5\n",
    "\n",
    "    useEffect(() => {\n",
    "    setSelectedIndex();\n",
    "    }, [items]);\n",
    "\n",
    "    const handleClick = index => {\n",
    "        setSelectedIndex(true);                                 //Error 2 \n",
    "      };\n",
    "\n",
    "    return (\n",
    "    <ul style={{ textAlign: \"left\" }}>\n",
    "    {items.map((item, index) => (\n",
    "        <SingleListItem\n",
    "        onClickHandler={() => handleClick(index)}\n",
    "        text={item.text}\n",
    "        index={index}\n",
    "        key={index}\n",
    "        isSelected={selectedIndex}\n",
    "        />\n",
    "    ))}\n",
    "    </ul>\n",
    "    );\n",
    "    };\n",
    "\n",
    "    WrappedListComponent.propTypes = {\n",
    "        items: PropTypes.arrayOf(PropTypes.shape({         //Error 4\n",
    "          text: PropTypes.string.isRequired,\n",
    "        })),\n",
    "      };\n",
    "\n",
    "    WrappedListComponent.defaultProps = {                   //Error 3\n",
    "    items: [\n",
    "    { text: \"Vishwa Ratan Soni\", index: 1 },\n",
    "    { text: \"12004047\", index: 1 },\n",
    "    { text: \"Bachelors of Technology in Computer Science and Engineering \", index: 1 },\n",
    "    { text: \"Lovely Professional University\", index: 1 }\n",
    "    ]\n",
    "    };\n",
    "\n",
    "    const List = memo(WrappedListComponent);\n",
    "\n",
    "    export default List;"
   ]
  }
 ],
 "metadata": {
  "kernelspec": {
   "display_name": "Python 3",
   "language": "python",
   "name": "python3"
  },
  "language_info": {
   "codemirror_mode": {
    "name": "ipython",
    "version": 3
   },
   "file_extension": ".py",
   "mimetype": "text/x-python",
   "name": "python",
   "nbconvert_exporter": "python",
   "pygments_lexer": "ipython3",
   "version": "3.10.6"
  },
  "orig_nbformat": 4
 },
 "nbformat": 4,
 "nbformat_minor": 2
}
